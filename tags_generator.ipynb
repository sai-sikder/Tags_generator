{
 "cells": [
  {
   "cell_type": "code",
   "execution_count": null,
   "id": "585551c8",
   "metadata": {},
   "outputs": [],
   "source": [
    "!pip install ChatGPT\n",
    "from pyChatGPT import ChatGPT"
   ]
  },
  {
   "cell_type": "code",
   "execution_count": null,
   "id": "dfff6829",
   "metadata": {},
   "outputs": [],
   "source": [
    "# session token - which you can find in dev tools > applications > cookies\n",
    "session_token = \"XXXXX\"\n",
    "# authentication - 1\n",
    "session_api = ChatGPT(session_token=session_token)"
   ]
  },
  {
   "cell_type": "code",
   "execution_count": null,
   "id": "57a21533",
   "metadata": {},
   "outputs": [],
   "source": [
    "question = \"can you list the keywords\\n\"\n",
    "\n",
    "### REPLACE Xs with your question\n",
    "\n",
    "message = question + '''XXXXX'''"
   ]
  },
  {
   "cell_type": "code",
   "execution_count": null,
   "id": "e0a9d295",
   "metadata": {},
   "outputs": [],
   "source": [
    "resp = session_api.send_message(message)"
   ]
  },
  {
   "cell_type": "code",
   "execution_count": null,
   "id": "3d9bc10a",
   "metadata": {},
   "outputs": [],
   "source": [
    "# clean up message and produce list of tags\n",
    "\n",
    "num = 0\n",
    "final_text = \"\"\n",
    "special = \"\"\n",
    "tags = []\n",
    "\n",
    "for i in resp['message']:\n",
    "    if i == \":\":\n",
    "        final_text = resp['message'][num+1:].strip()\n",
    "        break\n",
    "    else:\n",
    "        num += 1\n",
    "\n",
    "\n",
    "for tag in final_text.split(', '):\n",
    "    tags.append(tag)\n",
    "    tags = [tag.replace(\".\", \"\") for tag in tags]\n",
    "\n",
    "tags = list(set(tags))\n",
    "print(tags)"
   ]
  }
 ],
 "metadata": {
  "kernelspec": {
   "display_name": "Python 3 (ipykernel)",
   "language": "python",
   "name": "python3"
  },
  "language_info": {
   "codemirror_mode": {
    "name": "ipython",
    "version": 3
   },
   "file_extension": ".py",
   "mimetype": "text/x-python",
   "name": "python",
   "nbconvert_exporter": "python",
   "pygments_lexer": "ipython3",
   "version": "3.9.7"
  }
 },
 "nbformat": 4,
 "nbformat_minor": 5
}
